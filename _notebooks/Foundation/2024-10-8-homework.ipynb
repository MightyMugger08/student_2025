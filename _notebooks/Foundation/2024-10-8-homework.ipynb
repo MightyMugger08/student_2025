{
 "cells": [
  {
   "cell_type": "code",
   "execution_count": null,
   "metadata": {},
   "outputs": [],
   "source": [
    "n = 17\n",
    "name = \"Ehren\"\n",
    "student_grade = 10\n",
    "\n",
    "\n",
    "# In Python, you can view the value stored in a variable using print statements, as shown below.\n",
    "# Use the syntax \"print(variable_name)\" for Python\n",
    "\n",
    "print(n)\n",
    "print(name)\n",
    "print(student_grade)\n",
    "17\n",
    "Ehren\n",
    "10"
   ]
  },
  {
   "cell_type": "code",
   "execution_count": null,
   "metadata": {
    "vscode": {
     "languageId": "javascript"
    }
   },
   "outputs": [],
   "source": [
    "%% javascript\n",
    "\n",
    "function basicOperations(a, b) {\n",
    "    let sum = a + b;\n",
    "    let difference = a - b;\n",
    "    let product = a * b;\n",
    "    let quotient = a / b;\n",
    "    let remainder = a % b;\n",
    "\n",
    "    console.log(`Addition: ${a} + ${b} = ${sum}`);\n",
    "    console.log(`Subtraction: ${a} - ${b} = ${difference}`);\n",
    "    console.log(`Multiplication: ${a} * ${b} = ${product}`);\n",
    "    console.log(`Division: ${a} / ${b} = ${quotient}`);\n",
    "    console.log(`Modulus: ${a} % ${b} = $(remainder)`);\n",
    "\n",
    "}\n",
    "\n",
    "basicOperations(10, 5);\n"
   ]
  }
 ],
 "metadata": {
  "language_info": {
   "name": "python"
  }
 },
 "nbformat": 4,
 "nbformat_minor": 2
}
